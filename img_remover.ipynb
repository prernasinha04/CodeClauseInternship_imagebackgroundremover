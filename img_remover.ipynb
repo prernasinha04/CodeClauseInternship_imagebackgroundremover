{
 "cells": [
  {
   "cell_type": "code",
   "execution_count": 1,
   "id": "71c63a91",
   "metadata": {},
   "outputs": [
    {
     "name": "stdout",
     "output_type": "stream",
     "text": [
      "Background removed and saved as 'output.png'\n"
     ]
    }
   ],
   "source": [
    "import requests\n",
    "\n",
    "def remove_background(image_path, api_key):\n",
    "    api_url = \"https://api.remove.bg/v1.0/removebg\"\n",
    "    files = {'image_file': open(image_path, 'rb')}\n",
    "    headers = {'X-Api-Key': api_key}\n",
    "    response = requests.post(api_url, files=files, headers=headers)\n",
    "\n",
    "    if response.status_code == 200:\n",
    "        with open('output.png', 'wb') as output_file:\n",
    "            output_file.write(response.content)\n",
    "        print(\"Background removed and saved as 'output.png'\")\n",
    "    else:\n",
    "        print(\"Error:\", response.status_code)\n",
    "\n",
    "# Replace with your API key\n",
    "api_key = 'EWpofC9VzLJSqKtbCvpBPEGv'\n",
    "image_path = 'images.jpeg'\n",
    "\n",
    "remove_background(image_path, api_key)\n"
   ]
  },
  {
   "cell_type": "code",
   "execution_count": null,
   "id": "be5ec897",
   "metadata": {},
   "outputs": [],
   "source": []
  }
 ],
 "metadata": {
  "kernelspec": {
   "display_name": "Python 3 (ipykernel)",
   "language": "python",
   "name": "python3"
  },
  "language_info": {
   "codemirror_mode": {
    "name": "ipython",
    "version": 3
   },
   "file_extension": ".py",
   "mimetype": "text/x-python",
   "name": "python",
   "nbconvert_exporter": "python",
   "pygments_lexer": "ipython3",
   "version": "3.9.13"
  }
 },
 "nbformat": 4,
 "nbformat_minor": 5
}
